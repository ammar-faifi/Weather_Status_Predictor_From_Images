{
 "cells": [
  {
   "cell_type": "code",
   "execution_count": 3,
   "metadata": {},
   "outputs": [],
   "source": [
    "import io\n",
    "from bs4 import BeautifulSoup\n",
    "import requests\n",
    "from PIL import Image\n",
    "import numpy as np\n",
    "\n",
    "from selenium import webdriver\n",
    "from selenium.webdriver.common.by import By\n",
    "from selenium.webdriver.common.keys import Keys\n"
   ]
  },
  {
   "cell_type": "markdown",
   "metadata": {},
   "source": [
    "## Collect images \n",
    "Open a GET HTTP request with the searched params for the serach engines such Bing, and retrieve all the images. Store the images in a current directory."
   ]
  },
  {
   "cell_type": "code",
   "execution_count": 77,
   "metadata": {},
   "outputs": [],
   "source": [
    "browser = webdriver.Safari()"
   ]
  },
  {
   "cell_type": "code",
   "execution_count": 78,
   "metadata": {},
   "outputs": [],
   "source": [
    "browser.set_window_position(0, 0)\n",
    "browser.set_window_size(1200, 1200)"
   ]
  },
  {
   "cell_type": "code",
   "execution_count": 117,
   "metadata": {},
   "outputs": [],
   "source": [
    "BING_URL = 'https://www.bing.com/images/search?q=sunny+weather'\n",
    "\n",
    "browser.get(BING_URL)\n",
    "bs = BeautifulSoup(browser.page_source)"
   ]
  },
  {
   "cell_type": "code",
   "execution_count": 126,
   "metadata": {},
   "outputs": [],
   "source": [
    "# get all image tiles\n",
    "a_element = browser.find_elements(By.CSS_SELECTOR, \"[data-idx]\")[1].find_element(\n",
    "    By.CLASS_NAME, \"inflnk\"\n",
    ")\n",
    "# a_element.get_attribute('href')\n",
    "a_element.send_keys(Keys.RETURN)"
   ]
  },
  {
   "cell_type": "code",
   "execution_count": 148,
   "metadata": {},
   "outputs": [],
   "source": [
    "# switch to opened image iframe\n",
    "browser.switch_to.frame('OverlayIFrame')"
   ]
  },
  {
   "cell_type": "code",
   "execution_count": 147,
   "metadata": {},
   "outputs": [],
   "source": [
    "# switch back to the page\n",
    "browser.switch_to.default_content()"
   ]
  },
  {
   "cell_type": "code",
   "execution_count": 149,
   "metadata": {},
   "outputs": [
    {
     "data": {
      "text/plain": [
       "[<selenium.webdriver.remote.webelement.WebElement (session=\"20C65124-0EAF-4858-ADD6-3EA004EFCC76\", element=\"node-A28DF694-2057-4F78-B706-B765AB45923D\")>,\n",
       " <selenium.webdriver.remote.webelement.WebElement (session=\"20C65124-0EAF-4858-ADD6-3EA004EFCC76\", element=\"node-A81A0994-F06F-4CA3-A985-D1E922960BE5\")>,\n",
       " <selenium.webdriver.remote.webelement.WebElement (session=\"20C65124-0EAF-4858-ADD6-3EA004EFCC76\", element=\"node-CA676F28-C2AF-4393-B7C0-114E1CB03A3A\")>,\n",
       " <selenium.webdriver.remote.webelement.WebElement (session=\"20C65124-0EAF-4858-ADD6-3EA004EFCC76\", element=\"node-FE650838-13BF-457F-B4A1-E97E5031F600\")>,\n",
       " <selenium.webdriver.remote.webelement.WebElement (session=\"20C65124-0EAF-4858-ADD6-3EA004EFCC76\", element=\"node-D8AB783C-15FD-4C06-BF88-B521052F60DA\")>,\n",
       " <selenium.webdriver.remote.webelement.WebElement (session=\"20C65124-0EAF-4858-ADD6-3EA004EFCC76\", element=\"node-4823D837-AC31-44DC-90E4-58C2BCA19717\")>,\n",
       " <selenium.webdriver.remote.webelement.WebElement (session=\"20C65124-0EAF-4858-ADD6-3EA004EFCC76\", element=\"node-14180BCC-8B62-4417-B576-D2486FA79780\")>,\n",
       " <selenium.webdriver.remote.webelement.WebElement (session=\"20C65124-0EAF-4858-ADD6-3EA004EFCC76\", element=\"node-5718E66A-DC11-462D-B22B-7795EDBF1877\")>,\n",
       " <selenium.webdriver.remote.webelement.WebElement (session=\"20C65124-0EAF-4858-ADD6-3EA004EFCC76\", element=\"node-F395DE15-74B1-40AD-BCBF-ECC58E4DAEEC\")>,\n",
       " <selenium.webdriver.remote.webelement.WebElement (session=\"20C65124-0EAF-4858-ADD6-3EA004EFCC76\", element=\"node-271730E2-5012-450B-BF07-76850ED521C8\")>,\n",
       " <selenium.webdriver.remote.webelement.WebElement (session=\"20C65124-0EAF-4858-ADD6-3EA004EFCC76\", element=\"node-855CE451-9808-44A8-A9E8-12AB23845456\")>,\n",
       " <selenium.webdriver.remote.webelement.WebElement (session=\"20C65124-0EAF-4858-ADD6-3EA004EFCC76\", element=\"node-0F9BF14A-2754-4785-BFE0-DD464997A8A5\")>,\n",
       " <selenium.webdriver.remote.webelement.WebElement (session=\"20C65124-0EAF-4858-ADD6-3EA004EFCC76\", element=\"node-146DD378-46CF-4DB8-AB13-782C2DE165D3\")>,\n",
       " <selenium.webdriver.remote.webelement.WebElement (session=\"20C65124-0EAF-4858-ADD6-3EA004EFCC76\", element=\"node-D25F8E64-2204-4F7A-93D9-2A878BD0B98C\")>,\n",
       " <selenium.webdriver.remote.webelement.WebElement (session=\"20C65124-0EAF-4858-ADD6-3EA004EFCC76\", element=\"node-280397B7-8951-48FD-8A5C-99DFB07DE592\")>,\n",
       " <selenium.webdriver.remote.webelement.WebElement (session=\"20C65124-0EAF-4858-ADD6-3EA004EFCC76\", element=\"node-27DAB8CE-C212-4B95-95C8-526E6668B4E4\")>,\n",
       " <selenium.webdriver.remote.webelement.WebElement (session=\"20C65124-0EAF-4858-ADD6-3EA004EFCC76\", element=\"node-A1A24CC8-A951-4884-B44A-9372B5923463\")>,\n",
       " <selenium.webdriver.remote.webelement.WebElement (session=\"20C65124-0EAF-4858-ADD6-3EA004EFCC76\", element=\"node-79C551A7-7F11-4252-B643-FFC426EFF6BA\")>,\n",
       " <selenium.webdriver.remote.webelement.WebElement (session=\"20C65124-0EAF-4858-ADD6-3EA004EFCC76\", element=\"node-4DCF67D1-35F2-44DA-9098-CD9A440427EA\")>,\n",
       " <selenium.webdriver.remote.webelement.WebElement (session=\"20C65124-0EAF-4858-ADD6-3EA004EFCC76\", element=\"node-8290E49E-F028-4DA6-A754-A70750FBED5F\")>,\n",
       " <selenium.webdriver.remote.webelement.WebElement (session=\"20C65124-0EAF-4858-ADD6-3EA004EFCC76\", element=\"node-D0D015D7-5BFF-4887-A5F0-D304FC3A3A13\")>,\n",
       " <selenium.webdriver.remote.webelement.WebElement (session=\"20C65124-0EAF-4858-ADD6-3EA004EFCC76\", element=\"node-F06AC939-FB00-45CD-B79B-4AB9E41168E3\")>,\n",
       " <selenium.webdriver.remote.webelement.WebElement (session=\"20C65124-0EAF-4858-ADD6-3EA004EFCC76\", element=\"node-03A2B3C9-9FEA-4158-8A45-042891E47397\")>,\n",
       " <selenium.webdriver.remote.webelement.WebElement (session=\"20C65124-0EAF-4858-ADD6-3EA004EFCC76\", element=\"node-D5A07D87-E5F3-4AA2-96D3-2CAD0B1F5CAD\")>,\n",
       " <selenium.webdriver.remote.webelement.WebElement (session=\"20C65124-0EAF-4858-ADD6-3EA004EFCC76\", element=\"node-7446C89B-BBBC-4F6C-A0F3-C9C31665C5E5\")>,\n",
       " <selenium.webdriver.remote.webelement.WebElement (session=\"20C65124-0EAF-4858-ADD6-3EA004EFCC76\", element=\"node-925C72CF-AA81-46B5-9896-040680219A83\")>,\n",
       " <selenium.webdriver.remote.webelement.WebElement (session=\"20C65124-0EAF-4858-ADD6-3EA004EFCC76\", element=\"node-DDD8F927-4A85-49E4-8AD8-7AAB1715B485\")>,\n",
       " <selenium.webdriver.remote.webelement.WebElement (session=\"20C65124-0EAF-4858-ADD6-3EA004EFCC76\", element=\"node-54DF03B4-7A8F-4DEB-95E6-0BBACD1D5FD5\")>,\n",
       " <selenium.webdriver.remote.webelement.WebElement (session=\"20C65124-0EAF-4858-ADD6-3EA004EFCC76\", element=\"node-2316C174-E8FD-4A32-BC85-0ED792E7563A\")>,\n",
       " <selenium.webdriver.remote.webelement.WebElement (session=\"20C65124-0EAF-4858-ADD6-3EA004EFCC76\", element=\"node-5A354B22-972D-4FBD-B0AB-41D0559BD725\")>,\n",
       " <selenium.webdriver.remote.webelement.WebElement (session=\"20C65124-0EAF-4858-ADD6-3EA004EFCC76\", element=\"node-8C651EAB-4EA3-4234-B942-128B94416E49\")>,\n",
       " <selenium.webdriver.remote.webelement.WebElement (session=\"20C65124-0EAF-4858-ADD6-3EA004EFCC76\", element=\"node-6C8CFBF9-FDD7-4B0D-881A-0EC164D54C93\")>,\n",
       " <selenium.webdriver.remote.webelement.WebElement (session=\"20C65124-0EAF-4858-ADD6-3EA004EFCC76\", element=\"node-200AEBF7-D30C-421C-8E8D-50ACBFDED8DF\")>,\n",
       " <selenium.webdriver.remote.webelement.WebElement (session=\"20C65124-0EAF-4858-ADD6-3EA004EFCC76\", element=\"node-E6418415-1638-4BD2-BFA5-A2E6049EAF5C\")>,\n",
       " <selenium.webdriver.remote.webelement.WebElement (session=\"20C65124-0EAF-4858-ADD6-3EA004EFCC76\", element=\"node-F0EC4EF7-6F9D-4421-BAA0-E62815D2EE92\")>,\n",
       " <selenium.webdriver.remote.webelement.WebElement (session=\"20C65124-0EAF-4858-ADD6-3EA004EFCC76\", element=\"node-EB283644-4D9D-4212-A353-67855C410491\")>,\n",
       " <selenium.webdriver.remote.webelement.WebElement (session=\"20C65124-0EAF-4858-ADD6-3EA004EFCC76\", element=\"node-3FBBF585-4A89-468E-9E18-5B65AB646BBE\")>,\n",
       " <selenium.webdriver.remote.webelement.WebElement (session=\"20C65124-0EAF-4858-ADD6-3EA004EFCC76\", element=\"node-533343DD-CB09-456B-9D3B-80ED07EF1A41\")>,\n",
       " <selenium.webdriver.remote.webelement.WebElement (session=\"20C65124-0EAF-4858-ADD6-3EA004EFCC76\", element=\"node-BF330C0E-53CF-4892-AAEA-413ABC269E72\")>,\n",
       " <selenium.webdriver.remote.webelement.WebElement (session=\"20C65124-0EAF-4858-ADD6-3EA004EFCC76\", element=\"node-356EB30F-D4EB-493B-9160-ADFE97BA92E1\")>,\n",
       " <selenium.webdriver.remote.webelement.WebElement (session=\"20C65124-0EAF-4858-ADD6-3EA004EFCC76\", element=\"node-C97B8698-FC4C-462D-A0B7-02E980165DA2\")>,\n",
       " <selenium.webdriver.remote.webelement.WebElement (session=\"20C65124-0EAF-4858-ADD6-3EA004EFCC76\", element=\"node-2C193C2F-A4E5-46B0-BA9B-0139C19ABA82\")>,\n",
       " <selenium.webdriver.remote.webelement.WebElement (session=\"20C65124-0EAF-4858-ADD6-3EA004EFCC76\", element=\"node-F0F25DA4-C215-4F89-97E9-2C215AE2C401\")>,\n",
       " <selenium.webdriver.remote.webelement.WebElement (session=\"20C65124-0EAF-4858-ADD6-3EA004EFCC76\", element=\"node-469C141A-C4B7-4075-B8BF-DD5AFEE45C14\")>,\n",
       " <selenium.webdriver.remote.webelement.WebElement (session=\"20C65124-0EAF-4858-ADD6-3EA004EFCC76\", element=\"node-A13EAFEB-7C40-4082-9075-D530CF33777B\")>,\n",
       " <selenium.webdriver.remote.webelement.WebElement (session=\"20C65124-0EAF-4858-ADD6-3EA004EFCC76\", element=\"node-28C23315-CB44-42A3-8F06-4FF150BF37D4\")>,\n",
       " <selenium.webdriver.remote.webelement.WebElement (session=\"20C65124-0EAF-4858-ADD6-3EA004EFCC76\", element=\"node-F5DF3BDA-7E90-484D-9E2C-254BCDD52EFB\")>,\n",
       " <selenium.webdriver.remote.webelement.WebElement (session=\"20C65124-0EAF-4858-ADD6-3EA004EFCC76\", element=\"node-8C21AB70-3190-4C0D-902D-8163CDE85AA7\")>,\n",
       " <selenium.webdriver.remote.webelement.WebElement (session=\"20C65124-0EAF-4858-ADD6-3EA004EFCC76\", element=\"node-7F95CB5E-A064-4ACD-8796-D79A50505CA7\")>,\n",
       " <selenium.webdriver.remote.webelement.WebElement (session=\"20C65124-0EAF-4858-ADD6-3EA004EFCC76\", element=\"node-C7220C4B-AED0-4434-B7E0-359648C60C88\")>,\n",
       " <selenium.webdriver.remote.webelement.WebElement (session=\"20C65124-0EAF-4858-ADD6-3EA004EFCC76\", element=\"node-1997679F-1184-4E2D-880B-B8692ABB290A\")>,\n",
       " <selenium.webdriver.remote.webelement.WebElement (session=\"20C65124-0EAF-4858-ADD6-3EA004EFCC76\", element=\"node-0ED678E5-CD7F-4E4C-90B9-20B2F57FC750\")>,\n",
       " <selenium.webdriver.remote.webelement.WebElement (session=\"20C65124-0EAF-4858-ADD6-3EA004EFCC76\", element=\"node-28C89B5D-E3BB-4044-A905-69F1709884FE\")>,\n",
       " <selenium.webdriver.remote.webelement.WebElement (session=\"20C65124-0EAF-4858-ADD6-3EA004EFCC76\", element=\"node-4F8DC6D8-6E40-463D-92B0-5B5C359D5FB1\")>,\n",
       " <selenium.webdriver.remote.webelement.WebElement (session=\"20C65124-0EAF-4858-ADD6-3EA004EFCC76\", element=\"node-57EF89FC-553F-414B-813B-6CA8D62CAA25\")>,\n",
       " <selenium.webdriver.remote.webelement.WebElement (session=\"20C65124-0EAF-4858-ADD6-3EA004EFCC76\", element=\"node-6EC1C8B8-7A56-4761-85BA-340774D11198\")>,\n",
       " <selenium.webdriver.remote.webelement.WebElement (session=\"20C65124-0EAF-4858-ADD6-3EA004EFCC76\", element=\"node-EFE1BC89-1123-4B70-AF88-073576E13459\")>,\n",
       " <selenium.webdriver.remote.webelement.WebElement (session=\"20C65124-0EAF-4858-ADD6-3EA004EFCC76\", element=\"node-E482C691-3ECF-4958-9899-A184C9DD805F\")>,\n",
       " <selenium.webdriver.remote.webelement.WebElement (session=\"20C65124-0EAF-4858-ADD6-3EA004EFCC76\", element=\"node-34E9F8AA-7078-4322-B833-A76BD9B74713\")>,\n",
       " <selenium.webdriver.remote.webelement.WebElement (session=\"20C65124-0EAF-4858-ADD6-3EA004EFCC76\", element=\"node-097980FF-1740-4B45-8B7A-6CE89E9E129F\")>,\n",
       " <selenium.webdriver.remote.webelement.WebElement (session=\"20C65124-0EAF-4858-ADD6-3EA004EFCC76\", element=\"node-F2FFEBC1-0CC2-4369-9CF7-22D9CBC2FFE9\")>,\n",
       " <selenium.webdriver.remote.webelement.WebElement (session=\"20C65124-0EAF-4858-ADD6-3EA004EFCC76\", element=\"node-DAAB3642-1D6C-463D-9D48-A06FE8BB15A6\")>,\n",
       " <selenium.webdriver.remote.webelement.WebElement (session=\"20C65124-0EAF-4858-ADD6-3EA004EFCC76\", element=\"node-244C4EDB-66D1-4F39-BBCD-C7137AF4D5FD\")>,\n",
       " <selenium.webdriver.remote.webelement.WebElement (session=\"20C65124-0EAF-4858-ADD6-3EA004EFCC76\", element=\"node-F4559C14-7D36-40D3-9853-22666C998B9C\")>,\n",
       " <selenium.webdriver.remote.webelement.WebElement (session=\"20C65124-0EAF-4858-ADD6-3EA004EFCC76\", element=\"node-7E7EDEB6-F670-4254-B7D5-9BB1E450A7A5\")>,\n",
       " <selenium.webdriver.remote.webelement.WebElement (session=\"20C65124-0EAF-4858-ADD6-3EA004EFCC76\", element=\"node-3583F2E9-9097-44B0-AB70-5F32B30D5599\")>,\n",
       " <selenium.webdriver.remote.webelement.WebElement (session=\"20C65124-0EAF-4858-ADD6-3EA004EFCC76\", element=\"node-C2AC6265-E13A-4BA4-BAFA-3803ED7262B7\")>,\n",
       " <selenium.webdriver.remote.webelement.WebElement (session=\"20C65124-0EAF-4858-ADD6-3EA004EFCC76\", element=\"node-66DC71A8-5595-42CE-AAD8-916A40ED5F1B\")>,\n",
       " <selenium.webdriver.remote.webelement.WebElement (session=\"20C65124-0EAF-4858-ADD6-3EA004EFCC76\", element=\"node-C6840678-46C2-4A45-9724-B0390A38F7CF\")>,\n",
       " <selenium.webdriver.remote.webelement.WebElement (session=\"20C65124-0EAF-4858-ADD6-3EA004EFCC76\", element=\"node-6CB1165E-1A85-4CA8-BFD1-6D8F57D26FD4\")>,\n",
       " <selenium.webdriver.remote.webelement.WebElement (session=\"20C65124-0EAF-4858-ADD6-3EA004EFCC76\", element=\"node-E6BDDCFF-8AEB-4398-A6C3-3E16CD4D51A5\")>,\n",
       " <selenium.webdriver.remote.webelement.WebElement (session=\"20C65124-0EAF-4858-ADD6-3EA004EFCC76\", element=\"node-B9D1D007-A3BE-45FC-B7FC-1B19E830C5A2\")>,\n",
       " <selenium.webdriver.remote.webelement.WebElement (session=\"20C65124-0EAF-4858-ADD6-3EA004EFCC76\", element=\"node-6C0CD0D5-C463-456F-9FB8-303705FAFAE0\")>,\n",
       " <selenium.webdriver.remote.webelement.WebElement (session=\"20C65124-0EAF-4858-ADD6-3EA004EFCC76\", element=\"node-7FDC4355-0E94-4768-A676-9553A3E606FF\")>,\n",
       " <selenium.webdriver.remote.webelement.WebElement (session=\"20C65124-0EAF-4858-ADD6-3EA004EFCC76\", element=\"node-F0A8F27E-8C0F-4E54-86E7-2DE7990E03B2\")>,\n",
       " <selenium.webdriver.remote.webelement.WebElement (session=\"20C65124-0EAF-4858-ADD6-3EA004EFCC76\", element=\"node-ECF57018-1097-4705-BD66-6C35CE483126\")>,\n",
       " <selenium.webdriver.remote.webelement.WebElement (session=\"20C65124-0EAF-4858-ADD6-3EA004EFCC76\", element=\"node-E0C289BA-D586-4BA7-9BDF-6DB4F15D3405\")>,\n",
       " <selenium.webdriver.remote.webelement.WebElement (session=\"20C65124-0EAF-4858-ADD6-3EA004EFCC76\", element=\"node-A83B526A-0FA7-45C1-BE22-4A1524A1D088\")>,\n",
       " <selenium.webdriver.remote.webelement.WebElement (session=\"20C65124-0EAF-4858-ADD6-3EA004EFCC76\", element=\"node-0E77C3B5-4A6A-41E1-B53E-CA2FEFA76236\")>,\n",
       " <selenium.webdriver.remote.webelement.WebElement (session=\"20C65124-0EAF-4858-ADD6-3EA004EFCC76\", element=\"node-2503D4EA-8783-4681-A173-07FCAF2F9603\")>,\n",
       " <selenium.webdriver.remote.webelement.WebElement (session=\"20C65124-0EAF-4858-ADD6-3EA004EFCC76\", element=\"node-B7E19E87-3D5D-4147-9D1E-D3074A317AAE\")>,\n",
       " <selenium.webdriver.remote.webelement.WebElement (session=\"20C65124-0EAF-4858-ADD6-3EA004EFCC76\", element=\"node-7EF2F5DF-900C-4D3C-A629-18333E913C3D\")>,\n",
       " <selenium.webdriver.remote.webelement.WebElement (session=\"20C65124-0EAF-4858-ADD6-3EA004EFCC76\", element=\"node-5B96BDC0-DD80-417B-8EDF-660F47C9D8DA\")>,\n",
       " <selenium.webdriver.remote.webelement.WebElement (session=\"20C65124-0EAF-4858-ADD6-3EA004EFCC76\", element=\"node-72665B20-4682-4E5F-B324-281170EA2974\")>,\n",
       " <selenium.webdriver.remote.webelement.WebElement (session=\"20C65124-0EAF-4858-ADD6-3EA004EFCC76\", element=\"node-21FE2CE7-1083-4FF5-A92B-F4C523469E24\")>,\n",
       " <selenium.webdriver.remote.webelement.WebElement (session=\"20C65124-0EAF-4858-ADD6-3EA004EFCC76\", element=\"node-3944E3D4-A7A1-4F9C-BDB6-B219FD33533B\")>,\n",
       " <selenium.webdriver.remote.webelement.WebElement (session=\"20C65124-0EAF-4858-ADD6-3EA004EFCC76\", element=\"node-D0349C81-8B1C-48E6-9817-64D49455F8D3\")>,\n",
       " <selenium.webdriver.remote.webelement.WebElement (session=\"20C65124-0EAF-4858-ADD6-3EA004EFCC76\", element=\"node-DCF750B7-E63C-4A83-B2F1-7454B60CC980\")>,\n",
       " <selenium.webdriver.remote.webelement.WebElement (session=\"20C65124-0EAF-4858-ADD6-3EA004EFCC76\", element=\"node-76494B53-6621-48A5-8F12-934692D06D9B\")>,\n",
       " <selenium.webdriver.remote.webelement.WebElement (session=\"20C65124-0EAF-4858-ADD6-3EA004EFCC76\", element=\"node-A39A14B8-AF2A-4FF2-97AD-C568957E49DA\")>,\n",
       " <selenium.webdriver.remote.webelement.WebElement (session=\"20C65124-0EAF-4858-ADD6-3EA004EFCC76\", element=\"node-C2BE51FE-C145-4F96-9CBD-26DC847E3C0F\")>,\n",
       " <selenium.webdriver.remote.webelement.WebElement (session=\"20C65124-0EAF-4858-ADD6-3EA004EFCC76\", element=\"node-D62E128C-99CF-47DA-A547-75301D562307\")>,\n",
       " <selenium.webdriver.remote.webelement.WebElement (session=\"20C65124-0EAF-4858-ADD6-3EA004EFCC76\", element=\"node-CF58B96C-E790-464D-8274-0748730847B7\")>,\n",
       " <selenium.webdriver.remote.webelement.WebElement (session=\"20C65124-0EAF-4858-ADD6-3EA004EFCC76\", element=\"node-3D9F81F0-7928-4F41-A565-AA279D2CA0A9\")>,\n",
       " <selenium.webdriver.remote.webelement.WebElement (session=\"20C65124-0EAF-4858-ADD6-3EA004EFCC76\", element=\"node-370E9A8E-496A-4272-9B23-708BA010D3FB\")>,\n",
       " <selenium.webdriver.remote.webelement.WebElement (session=\"20C65124-0EAF-4858-ADD6-3EA004EFCC76\", element=\"node-6BDA3DAB-9533-4D7E-A2F8-2BB5E43FA9C0\")>,\n",
       " <selenium.webdriver.remote.webelement.WebElement (session=\"20C65124-0EAF-4858-ADD6-3EA004EFCC76\", element=\"node-6CEEC4B3-D042-47B3-A65E-57E137FEACA5\")>,\n",
       " <selenium.webdriver.remote.webelement.WebElement (session=\"20C65124-0EAF-4858-ADD6-3EA004EFCC76\", element=\"node-D9FD21DD-F930-41B7-8560-AF2861327F85\")>,\n",
       " <selenium.webdriver.remote.webelement.WebElement (session=\"20C65124-0EAF-4858-ADD6-3EA004EFCC76\", element=\"node-81A8DF66-89E4-44C0-92E8-80FF21A2DC35\")>,\n",
       " <selenium.webdriver.remote.webelement.WebElement (session=\"20C65124-0EAF-4858-ADD6-3EA004EFCC76\", element=\"node-7CFF3BFD-7B7A-4061-8F9D-8BB3031BA055\")>,\n",
       " <selenium.webdriver.remote.webelement.WebElement (session=\"20C65124-0EAF-4858-ADD6-3EA004EFCC76\", element=\"node-8C1D1193-BF75-4640-B153-17E51F1F9388\")>,\n",
       " <selenium.webdriver.remote.webelement.WebElement (session=\"20C65124-0EAF-4858-ADD6-3EA004EFCC76\", element=\"node-B196C336-2534-43FA-8679-FB15D0C7BF45\")>,\n",
       " <selenium.webdriver.remote.webelement.WebElement (session=\"20C65124-0EAF-4858-ADD6-3EA004EFCC76\", element=\"node-FBC9B7DC-923F-43EC-9254-01C954E2ADED\")>,\n",
       " <selenium.webdriver.remote.webelement.WebElement (session=\"20C65124-0EAF-4858-ADD6-3EA004EFCC76\", element=\"node-F0985DD6-AF43-4A67-84CE-C2F584B331FF\")>,\n",
       " <selenium.webdriver.remote.webelement.WebElement (session=\"20C65124-0EAF-4858-ADD6-3EA004EFCC76\", element=\"node-E625F074-EE24-4EF8-90D2-F9527B1E13BE\")>,\n",
       " <selenium.webdriver.remote.webelement.WebElement (session=\"20C65124-0EAF-4858-ADD6-3EA004EFCC76\", element=\"node-EFA2FE98-B89E-4FC4-B342-4A938D696519\")>,\n",
       " <selenium.webdriver.remote.webelement.WebElement (session=\"20C65124-0EAF-4858-ADD6-3EA004EFCC76\", element=\"node-CF1550D0-1F99-4DF0-9A56-A2C41FA20364\")>,\n",
       " <selenium.webdriver.remote.webelement.WebElement (session=\"20C65124-0EAF-4858-ADD6-3EA004EFCC76\", element=\"node-957AB0C2-6171-48E5-BEB2-F72559733DA8\")>,\n",
       " <selenium.webdriver.remote.webelement.WebElement (session=\"20C65124-0EAF-4858-ADD6-3EA004EFCC76\", element=\"node-28C2A50F-AAEF-4391-B762-152C24F56A15\")>,\n",
       " <selenium.webdriver.remote.webelement.WebElement (session=\"20C65124-0EAF-4858-ADD6-3EA004EFCC76\", element=\"node-79DCD2DB-0C81-4C82-B4D2-55F77F5AAF64\")>,\n",
       " <selenium.webdriver.remote.webelement.WebElement (session=\"20C65124-0EAF-4858-ADD6-3EA004EFCC76\", element=\"node-75A2988B-6A36-4D23-A38E-92B85C376CBD\")>,\n",
       " <selenium.webdriver.remote.webelement.WebElement (session=\"20C65124-0EAF-4858-ADD6-3EA004EFCC76\", element=\"node-F62A486D-2D75-4DAB-BD53-1672F90D8540\")>,\n",
       " <selenium.webdriver.remote.webelement.WebElement (session=\"20C65124-0EAF-4858-ADD6-3EA004EFCC76\", element=\"node-E16BC3EE-38CF-418D-84DD-126582FB910D\")>,\n",
       " <selenium.webdriver.remote.webelement.WebElement (session=\"20C65124-0EAF-4858-ADD6-3EA004EFCC76\", element=\"node-9C969BDA-A09D-4281-877F-469D356FBA14\")>,\n",
       " <selenium.webdriver.remote.webelement.WebElement (session=\"20C65124-0EAF-4858-ADD6-3EA004EFCC76\", element=\"node-C698D86D-DDB9-42A8-860A-E393EC4E0882\")>]"
      ]
     },
     "execution_count": 149,
     "metadata": {},
     "output_type": "execute_result"
    }
   ],
   "source": [
    "# find elements in the iframe\n",
    "side_images = browser.find_elements(By.TAG_NAME, 'li')\n",
    "\n",
    "for img in side_images:\n",
    "    print(img.find_element(By.TAG_NAME, 'img'))"
   ]
  },
  {
   "cell_type": "code",
   "execution_count": 130,
   "metadata": {},
   "outputs": [
    {
     "data": {
      "text/plain": [
       "<selenium.webdriver.remote.webelement.WebElement (session=\"20C65124-0EAF-4858-ADD6-3EA004EFCC76\", element=\"node-9C8C1F2A-CA78-4F55-A850-A11BDF933CAE\")>"
      ]
     },
     "execution_count": 130,
     "metadata": {},
     "output_type": "execute_result"
    }
   ],
   "source": [
    "browser.find_element(By.CLASS_NAME, 'richImgLnk')"
   ]
  },
  {
   "cell_type": "code",
   "execution_count": null,
   "metadata": {},
   "outputs": [],
   "source": [
    "# quick look at the selected HTML element\n",
    "Image.open(io.BytesIO(el.screenshot_as_png))"
   ]
  },
  {
   "cell_type": "code",
   "execution_count": null,
   "metadata": {},
   "outputs": [],
   "source": [
    "\n",
    "all_img = bs.find_all('img')\n",
    "print(*all_img, sep='\\n')\n",
    "\n",
    "for img in all_img:\n",
    "    print(img['src'])"
   ]
  },
  {
   "cell_type": "code",
   "execution_count": 25,
   "metadata": {},
   "outputs": [],
   "source": [
    "browser.stop_client()"
   ]
  },
  {
   "cell_type": "code",
   "execution_count": null,
   "metadata": {},
   "outputs": [],
   "source": [
    "BING_URL = 'https://www.bing.com/images/search?q=sunny+weather'\n",
    "# SEARCH_KEYS = ['sunny', 'weahter']\n",
    "\n",
    "res = requests.get(BING_URL)\n",
    "\n",
    "content = BeautifulSoup(res.content)\n",
    "# print(content)\n",
    "\n",
    "var = content.find_all('img')\n",
    "var1 = content.find_all('img', class_='mimg')\n",
    "\n",
    "print(*var, sep='\\n')\n",
    "print(*var1, sep='\\n')\n",
    "\n",
    "# image_urls = []\n",
    "# for img in content.find_all('img', class_='mimg'):\n",
    "#     image_urls.append(img['src'].split('?')[0])"
   ]
  },
  {
   "cell_type": "code",
   "execution_count": 55,
   "metadata": {},
   "outputs": [],
   "source": [
    "for i in range(len(image_urls)):\n",
    "    res = requests.get(image_urls[i], stream=True)\n",
    "    with open(f'sunny/{i}.jpg', 'wb') as file:\n",
    "        file.write(res.content)"
   ]
  }
 ],
 "metadata": {
  "kernelspec": {
   "display_name": "Python 3.10.5 ('env': venv)",
   "language": "python",
   "name": "python3"
  },
  "language_info": {
   "codemirror_mode": {
    "name": "ipython",
    "version": 3
   },
   "file_extension": ".py",
   "mimetype": "text/x-python",
   "name": "python",
   "nbconvert_exporter": "python",
   "pygments_lexer": "ipython3",
   "version": "3.10.5"
  },
  "orig_nbformat": 4,
  "vscode": {
   "interpreter": {
    "hash": "19d1cd2b929a61e4e44fea3062d888aade8251a4c272377329c883fede26c89a"
   }
  }
 },
 "nbformat": 4,
 "nbformat_minor": 2
}
