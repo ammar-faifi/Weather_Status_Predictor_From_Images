{
 "cells": [
  {
   "cell_type": "code",
   "execution_count": 6,
   "metadata": {},
   "outputs": [],
   "source": [
    "import os\n",
    "\n",
    "from PIL import Image\n",
    "import numpy as np\n",
    "import matplotlib.pyplot as plt\n",
    "plt.rcParams['figure.dpi'] = 100\n",
    "plt.rcParams['figure.figsize'] = (7, 5)\n",
    "\n",
    "from sklearn.model_selection import train_test_split\n",
    "from sklearn.linear_model import LogisticRegression"
   ]
  },
  {
   "cell_type": "markdown",
   "metadata": {},
   "source": [
    "## Binary Classification"
   ]
  },
  {
   "cell_type": "code",
   "execution_count": 15,
   "metadata": {},
   "outputs": [
    {
     "data": {
      "text/plain": [
       "array([0.20392157, 0.20392157, 0.20392157, ..., 0.17647059, 0.19607843,\n",
       "       0.21960784])"
      ]
     },
     "execution_count": 15,
     "metadata": {},
     "output_type": "execute_result"
    }
   ],
   "source": [
    "PIXELS = 200\n",
    "\n",
    "img = Image.open('./data/sunny/sunny sky-0.jpeg')\n",
    "# convert into gray and resize\n",
    "img = img.convert('L').resize((PIXELS, PIXELS))\n",
    "# scale out of 256 values\n",
    "img_array = np.asarray(img).flatten() / 255\n",
    "\n"
   ]
  },
  {
   "cell_type": "code",
   "execution_count": null,
   "metadata": {},
   "outputs": [],
   "source": [
    "def load_all_images(PIXELS: int = 50) -> np.ndarray:\n",
    "    \"\"\"To read all images from `data` folder\n",
    "    proccessing them then return them as array data\n",
    "\n",
    "    Arguments:\n",
    "        - `PIXELS`: int max size of image's hight & width\n",
    "    \n",
    "    return\n",
    "        (images, labels)\n",
    "        `images`: list is images as array\n",
    "        `labels`: list is the corresponding classes int `images\n",
    "    \"\"\"\n",
    "    \n",
    "    images = []\n",
    "    labels = []\n",
    "\n",
    "    img = Image.open('./data/sunny/sunny sky-0.jpeg')\n",
    "    # convert into gray and resize\n",
    "    img = img.convert('L').resize((PIXELS, PIXELS))\n",
    "    # scale out of 256 values\n",
    "    img_array = np.asarray(img).flatten() / 255\n",
    "\n",
    "    return images, labels"
   ]
  }
 ],
 "metadata": {
  "kernelspec": {
   "display_name": "Python 3.10.5 ('env': venv)",
   "language": "python",
   "name": "python3"
  },
  "language_info": {
   "codemirror_mode": {
    "name": "ipython",
    "version": 3
   },
   "file_extension": ".py",
   "mimetype": "text/x-python",
   "name": "python",
   "nbconvert_exporter": "python",
   "pygments_lexer": "ipython3",
   "version": "3.10.5"
  },
  "orig_nbformat": 4,
  "vscode": {
   "interpreter": {
    "hash": "db3f4a4e6106b1f544b42af7b9ca4a0e64d6784dd7ec505775fc0a9e44458cb3"
   }
  }
 },
 "nbformat": 4,
 "nbformat_minor": 2
}
